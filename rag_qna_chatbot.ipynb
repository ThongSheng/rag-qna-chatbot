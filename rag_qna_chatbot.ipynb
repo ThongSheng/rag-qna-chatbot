{
  "nbformat": 4,
  "nbformat_minor": 0,
  "metadata": {
    "colab": {
      "provenance": []
    },
    "kernelspec": {
      "name": "python3",
      "display_name": "Python 3"
    },
    "language_info": {
      "name": "python"
    }
  },
  "cells": [
    {
      "cell_type": "markdown",
      "source": [
        "# Building a Q&A chatbot application using RAG\n",
        "\n",
        "*   Langsmith API: https://smith.langchain.com/o/19004a86-d6f8-4d4c-a840-bb9791a94564/settings/apikeys\n",
        "*   Gemini API: https://aistudio.google.com/app/apikey\n",
        "\n"
      ],
      "metadata": {
        "id": "VkQef7gO3hq8"
      }
    },
    {
      "cell_type": "code",
      "source": [
        "%pip install -qU langchain-text-splitters langchain-community langgraph"
      ],
      "metadata": {
        "id": "KIses5kYyJa7"
      },
      "execution_count": 1,
      "outputs": []
    },
    {
      "cell_type": "code",
      "execution_count": 2,
      "metadata": {
        "colab": {
          "base_uri": "https://localhost:8080/"
        },
        "id": "nfgHBF8Sx7PB",
        "outputId": "50771629-4f3c-4a80-819f-5719b5680323"
      },
      "outputs": [
        {
          "name": "stdout",
          "output_type": "stream",
          "text": [
            "··········\n"
          ]
        }
      ],
      "source": [
        "# Setup Langsmith API\n",
        "import getpass\n",
        "import os\n",
        "\n",
        "os.environ[\"LANGSMITH_TRACING\"] = \"true\"\n",
        "os.environ[\"LANGSMITH_API_KEY\"] = getpass.getpass()"
      ]
    },
    {
      "cell_type": "markdown",
      "source": [
        "# Components\n",
        "\n",
        "Here, we are using Gemini models. For other models, refer to: https://python.langchain.com/docs/integrations/components/\n",
        "*   **Chat Model:** Gemini\n",
        "*   **Embeddings Model:** Gemini\n",
        "*   **Vector Store:** In-Memory"
      ],
      "metadata": {
        "id": "_ZEjTjYi4QTF"
      }
    },
    {
      "cell_type": "code",
      "source": [
        "# Install Gemini packages\n",
        "%pip install -qU langchain-google-genai"
      ],
      "metadata": {
        "id": "ESPUhOqx1hUL"
      },
      "execution_count": 3,
      "outputs": []
    },
    {
      "cell_type": "code",
      "source": [
        "# Setup Google API\n",
        "if not os.environ.get(\"GOOGLE_API_KEY\"):\n",
        "  os.environ[\"GOOGLE_API_KEY\"] = getpass.getpass(\"Enter API key for Google Gemini: \")"
      ],
      "metadata": {
        "colab": {
          "base_uri": "https://localhost:8080/"
        },
        "id": "H8fACt9W1-E6",
        "outputId": "46d55fa3-a011-410d-8356-4fcc2b5a928d"
      },
      "execution_count": 4,
      "outputs": [
        {
          "name": "stdout",
          "output_type": "stream",
          "text": [
            "Enter API key for Google Gemini: ··········\n"
          ]
        }
      ]
    },
    {
      "cell_type": "code",
      "source": [
        "# Select a Chat Model (language models that use a sequence of messages as inputs and return messages as outputs)\n",
        "from langchain.chat_models import init_chat_model\n",
        "\n",
        "llm = init_chat_model(\"gemini-2.0-flash\", model_provider=\"google_genai\")"
      ],
      "metadata": {
        "id": "zaOSAfQ-47Ix"
      },
      "execution_count": 5,
      "outputs": []
    },
    {
      "cell_type": "code",
      "source": [
        "# Select Embeddings Model (create a vector representation of a piece of text)\n",
        "from langchain_google_genai import GoogleGenerativeAIEmbeddings\n",
        "\n",
        "embeddings = GoogleGenerativeAIEmbeddings(model=\"models/embedding-001\")"
      ],
      "metadata": {
        "id": "yKBEGGjY3gh2"
      },
      "execution_count": 6,
      "outputs": []
    },
    {
      "cell_type": "code",
      "source": [
        "# Select Vector Store (stores embedded data and performs similarity search)\n",
        "from langchain_core.vectorstores import InMemoryVectorStore\n",
        "\n",
        "vector_store = InMemoryVectorStore(embeddings)"
      ],
      "metadata": {
        "id": "kbOOJ5w25M0N"
      },
      "execution_count": 7,
      "outputs": []
    },
    {
      "cell_type": "markdown",
      "source": [
        "# Indexing"
      ],
      "metadata": {
        "id": "paONX6Gu2Zqa"
      }
    },
    {
      "cell_type": "code",
      "source": [
        "# Load contents of specified websites\n",
        "import bs4\n",
        "from langchain_community.document_loaders import WebBaseLoader\n",
        "\n",
        "websites = (\"https://www.telefonica.com/en/communication-room/blog/ai-classrooms-future-education/?_gl=1*9hz71t*_up*MQ..*_ga*MTUyOTI5OTQ4OS4xNzUwMjg2ODEy*_ga_HCS21JSWP8*czE3NTAyODY4MTIkbzEkZzAkdDE3NTAyODc3MzgkajYwJGwwJGgw\",\n",
        "            \"https://www.telefonica.com/en/communication-room/blog/challenges-artificial-intelligence/\")\n",
        "bs4_strainer = bs4.SoupStrainer([\"title\", \"header\", \"h1\", \"h2\", \"h3\", \"p\"]) # only keep specific parts of the HTML\n",
        "\n",
        "loader = WebBaseLoader(web_paths=websites, bs_kwargs={\"parse_only\": bs4_strainer})\n",
        "docs = loader.load()"
      ],
      "metadata": {
        "id": "4XmJbFgJFP2O",
        "colab": {
          "base_uri": "https://localhost:8080/"
        },
        "outputId": "9bf51f64-2918-44da-c8ff-3bf849c91dc5"
      },
      "execution_count": 8,
      "outputs": [
        {
          "output_type": "stream",
          "name": "stderr",
          "text": [
            "WARNING:langchain_community.utils.user_agent:USER_AGENT environment variable not set, consider setting it to identify your requests.\n"
          ]
        }
      ]
    },
    {
      "cell_type": "code",
      "source": [
        "# Check loaded websites\n",
        "assert len(docs) == len(websites)\n",
        "print(f\"Total characters: {len(docs[0].page_content)}\") # length of 1st website\n",
        "print(f\"Total characters: {len(docs[1].page_content)}\") # length of 2nd website"
      ],
      "metadata": {
        "colab": {
          "base_uri": "https://localhost:8080/"
        },
        "id": "cxU1i_rrJ0Bk",
        "outputId": "3b0994e8-3fe5-4ee6-c4e5-76dfe0c1bafc"
      },
      "execution_count": 9,
      "outputs": [
        {
          "output_type": "stream",
          "name": "stdout",
          "text": [
            "Total characters: 8122\n",
            "Total characters: 8998\n"
          ]
        }
      ]
    },
    {
      "cell_type": "code",
      "source": [
        "# Split document into smaller chunks to fit the context window\n",
        "from langchain_text_splitters import RecursiveCharacterTextSplitter\n",
        "\n",
        "text_splitter = RecursiveCharacterTextSplitter(chunk_size = 1000, chunk_overlap = 200)\n",
        "all_splits = text_splitter.split_documents(docs)\n",
        "\n",
        "# Index chunks\n",
        "_ = vector_store.add_documents(documents=all_splits)"
      ],
      "metadata": {
        "id": "SpdwFGgVMFw8"
      },
      "execution_count": 10,
      "outputs": []
    },
    {
      "cell_type": "markdown",
      "source": [
        "# Retrieval and Generation\n",
        "\n",
        "Here, we use a pre-defined rag prompt template that can be found on [LangSmith hub](https://smith.langchain.com/hub/rlm/rag-prompt?_gl=1*o8bo4i*_gcl_au*ODY1MjU2MzguMTc0OTczNTQ1OQ..*_ga*MTE3NzIyNDQ2MC4xNzQ3MjQzODk1*_ga_47WX3HKKY2*czE3NTA0MzA2NTkkbzE2JGcxJHQxNzUwNDMxODc4JGo2MCRsMCRoMA..&organizationId=19004a86-d6f8-4d4c-a840-bb9791a94564):\n",
        "\n",
        "\n",
        "> You are an assistant for question-answering tasks. Use the following pieces of retrieved context to answer the question. If you don't know the answer, just say that you don't know. Use three sentences maximum and keep the answer concise.  \n",
        ">\n",
        "> Question: {question}\n",
        ">\n",
        "> Context: {context}\n",
        ">\n",
        "> Answer:"
      ],
      "metadata": {
        "id": "2--vzgJ32jfA"
      }
    },
    {
      "cell_type": "code",
      "source": [
        "# Define prompt for question-answering (Here, I use the pre-defined rag prompt template found here: https://smith.langchain.com/hub/rlm/rag-prompt?organizationId=19004a86-d6f8-4d4c-a840-bb9791a94564)\n",
        "from langchain import hub\n",
        "\n",
        "prompt = hub.pull(\"rlm/rag-prompt\")"
      ],
      "metadata": {
        "id": "hUxWPiRe2oOL"
      },
      "execution_count": 11,
      "outputs": []
    },
    {
      "cell_type": "code",
      "source": [
        "from langchain_core.documents import Document\n",
        "from typing_extensions import List, TypedDict\n",
        "\n",
        "# Define state for application (controls the data types during input, output, and everything in between)\n",
        "class State(TypedDict):\n",
        "    question: str\n",
        "    context: List[Document]\n",
        "    scores: List[float]\n",
        "    answer: str\n",
        "\n",
        "# Define application steps (retrieve and generate)\n",
        "def retrieve(state: State):\n",
        "  retrieved_docs_with_scores = vector_store.similarity_search_with_score(state[\"question\"])\n",
        "  docs = [doc for doc, score in retrieved_docs_with_scores]\n",
        "  scores = [score for doc, score in retrieved_docs_with_scores]\n",
        "  return {\"context\": docs, \"scores\": scores}\n",
        "\n",
        "def generate(state: State):\n",
        "  docs_content = \"\\n\\n\".join(doc.page_content for doc in state[\"context\"])\n",
        "  messages = prompt.invoke({\"question\": state[\"question\"], \"context\": docs_content})\n",
        "  response = llm.invoke(messages)\n",
        "  return {\"answer\": response.content}"
      ],
      "metadata": {
        "id": "Usb6ipl54GRR"
      },
      "execution_count": 13,
      "outputs": []
    },
    {
      "cell_type": "code",
      "source": [
        "# Use LangGraph to combine the retrieval and generation steps\n",
        "from langgraph.graph import START, StateGraph\n",
        "\n",
        "graph_builder = StateGraph(State).add_sequence([retrieve, generate])\n",
        "graph_builder.add_edge(START, \"retrieve\")\n",
        "graph = graph_builder.compile()"
      ],
      "metadata": {
        "id": "HtcGuj8D3xO9"
      },
      "execution_count": 14,
      "outputs": []
    },
    {
      "cell_type": "code",
      "source": [
        "# Visualize control flow graph (CFG)\n",
        "from IPython.display import Image, display\n",
        "\n",
        "display(Image(graph.get_graph().draw_mermaid_png()))"
      ],
      "metadata": {
        "colab": {
          "base_uri": "https://localhost:8080/",
          "height": 350
        },
        "id": "9kyf3bSm4Mpj",
        "outputId": "7299f0dc-13d4-47a9-91e3-937d91dd1f17"
      },
      "execution_count": 15,
      "outputs": [
        {
          "output_type": "display_data",
          "data": {
            "image/png": "[encoded data removed]",
            "text/plain": [
              "<IPython.core.display.Image object>"
            ]
          },
          "metadata": {}
        }
      ]
    },
    {
      "cell_type": "markdown",
      "source": [
        "# Invoking"
      ],
      "metadata": {
        "id": "dLj8y67B4eDy"
      }
    },
    {
      "cell_type": "code",
      "source": [
        "# Invoke\n",
        "question_prompt = \"Can you list each country listed in the articles along with their AI implementations and the associated risks?\"\n",
        "\n",
        "response = graph.invoke({\"question\": question_prompt})\n",
        "print('Context:')\n",
        "print(response[\"context\"])\n",
        "print('\\nScores:')\n",
        "print(response[\"scores\"])\n",
        "print('\\nAnswer:')\n",
        "print(response[\"answer\"])"
      ],
      "metadata": {
        "colab": {
          "base_uri": "https://localhost:8080/"
        },
        "id": "6_ysuUWS7wCM",
        "outputId": "ff29b9ba-eb73-424e-def0-6f135702a547"
      },
      "execution_count": 32,
      "outputs": [
        {
          "output_type": "stream",
          "name": "stdout",
          "text": [
            "Context:\n",
            "[Document(id='baad85bf-70a0-40ea-87b7-e96fdd7799bd', metadata={'source': 'https://www.telefonica.com/en/communication-room/blog/ai-classrooms-future-education/?_gl=1*9hz71t*_up*MQ..*_ga*MTUyOTI5OTQ4OS4xNzUwMjg2ODEy*_ga_HCS21JSWP8*czE3NTAyODY4MTIkbzEkZzAkdDE3NTAyODc3MzgkajYwJGwwJGgw', 'title': 'AI classrooms: The future of education - Telefónica'}, page_content='Nation’ strategy, Singapore is developing an AI system with the aim of increasing students’ academic performance. More specifically, this new system will offer a personalised experience through continuous assessment accompanied by feedback and corrections.Finally, despite not having a defined implementation strategy as in the previous two cases, Finland stands out for its unique approach to the application of AI in the classroom. Focusing on the well-being of students, the country is designing an AI system that not only allows for personalisation of teaching, but also collects data on emotional and psychological state with the aim of offering adequate support that considers the state and needs of students.Spain’s progress in integrating artificial intelligence in the classroomThrough its Artificial Intelligence Strategy 2020, which was recently revised in 2024, Spain has sought to position itself as a leading country in the design and application of AI. However, it does not yet have a'), Document(id='13b0089a-7032-4275-a59c-4e84d14c858d', metadata={'source': 'https://www.telefonica.com/en/communication-room/blog/ai-classrooms-future-education/?_gl=1*9hz71t*_up*MQ..*_ga*MTUyOTI5OTQ4OS4xNzUwMjg2ODEy*_ga_HCS21JSWP8*czE3NTAyODY4MTIkbzEkZzAkdDE3NTAyODc3MzgkajYwJGwwJGgw', 'title': 'AI classrooms: The future of education - Telefónica'}, page_content='Intelligence Strategy 2020, which was recently revised in 2024, Spain has sought to position itself as a leading country in the design and application of AI. However, it does not yet have a defined strategy for implementing AI in the classroom. The closest initiative in this area is the publication of the Guide on the use of artificial intelligence in education, produced by the National Institute of Educational Technologies and Teacher Training (INTEF), which reports to the Ministry of Education, Vocational Training and Sport. The document offers a comprehensive approach to applying AI in the education system in a way that benefits both teachers and students. In addition, it provides guidance on how to address challenges such as the lack of adequate training among educators, data management and the need for appropriate technological infrastructures in order to ensure an effective and accessible implementation of AI in the classroom.In conclusion, artificial intelligence in education'), Document(id='a2df7de7-c2eb-4325-85a1-4dc6338e9817', metadata={'source': 'https://www.telefonica.com/en/communication-room/blog/challenges-artificial-intelligence/', 'title': 'Challenges of artificial intelligence - Telefónica'}, page_content='and improve their capabilities over time. Its purpose is not only to replicate human reasoning, but also to optimise processes and expand human capabilities in various areas.Ethical challenges presented by AIThe advance of artificial intelligence poses significant ethical challenges. One of the main ones is the potential for discrimination in the systems, as the models can perpetuate existing biases in the data with which they are trained.In addition, privacy is a key concern, as many AI applications require large volumes of personal data.Another challenge is the impact on employment, as automation could displace certain jobs. Finally, there is a risk that AI could be used for malicious purposes, such as the creation of disinformation or cyberattacks, which underlines the need for adequate regulation and supervision.Existing types of AIFinally, super-intelligent AI would be a form of intelligence that surpasses human cognitive capacity in all aspects, although this idea remains in the'), Document(id='a0a9c063-84e1-4e5f-99d9-072efecc6f76', metadata={'source': 'https://www.telefonica.com/en/communication-room/blog/ai-classrooms-future-education/?_gl=1*9hz71t*_up*MQ..*_ga*MTUyOTI5OTQ4OS4xNzUwMjg2ODEy*_ga_HCS21JSWP8*czE3NTAyODY4MTIkbzEkZzAkdDE3NTAyODc3MzgkajYwJGwwJGgw', 'title': 'AI classrooms: The future of education - Telefónica'}, page_content='reducing the external pressure that can influence students when asking questions or proposing answers.Countries with strategies for the application of artificial intelligence in the education systemAware of these advantages, some countries, such as South Korea, Singapore and Finland, have already begun to integrate artificial intelligence into their education systems.South Korea has positioned itself as one of the countries leading the application of AI in the classroom. Several schools in the country already use AI-based systems to adapt tasks to the academic level of their students. In addition, South Korea aims to introduce AI as a subject within its educational programme.Another Asian country that stands out in the introduction of AI in education is Singapore. As part of the ‘Smart Nation’ strategy, Singapore is developing an AI system with the aim of increasing students’ academic performance. More specifically, this new system will offer a personalised experience through')]\n",
            "\n",
            "Scores:\n",
            "[0.665059135336904, 0.6356073130198107, 0.628701050167948, 0.6279603372781672]\n",
            "\n",
            "Answer:\n",
            "Here's a summary of countries and their AI implementations in education, along with associated risks, based on the provided text:\n",
            "\n",
            "*   **South Korea:** Uses AI systems to adapt tasks to students' academic levels and aims to introduce AI as a subject.\n",
            "*   **Singapore:** Developing an AI system to increase students’ academic performance through personalized experiences.\n",
            "*   **Finland:** Designing an AI system for personalized teaching and to collect data on students' emotional and psychological state to offer adequate support.\n",
            "*   **Spain:** Has sought to position itself as a leading country in the design and application of AI and has created a guide on AI usage in education.\n",
            "\n",
            "The risks associated with AI implementation include potential discrimination, privacy concerns, impact on employment, and the risk of malicious use such as disinformation or cyberattacks.\n"
          ]
        }
      ]
    }
  ]
}
